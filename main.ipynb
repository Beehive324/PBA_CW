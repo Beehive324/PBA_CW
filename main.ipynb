{
 "cells": [
  {
   "cell_type": "code",
   "execution_count": null,
   "metadata": {},
   "outputs": [
    {
     "ename": "",
     "evalue": "",
     "output_type": "error",
     "traceback": [
      "\u001b[1;31mRunning cells with '/opt/homebrew/bin/python3' requires the ipykernel package.\n",
      "\u001b[1;31mRun the following command to install 'ipykernel' into the Python environment. \n",
      "\u001b[1;31mCommand: '/opt/homebrew/bin/python3 -m pip install ipykernel -U --user --force-reinstall'"
     ]
    }
   ],
   "source": [
    "!pip install keras\n",
    "!pip install pandas\n",
    "!pip install matplotlib\n",
    "!pip install numpy\n",
    "!pip install sklearn"
   ]
  },
  {
   "cell_type": "code",
   "execution_count": null,
   "metadata": {},
   "outputs": [
    {
     "ename": "",
     "evalue": "",
     "output_type": "error",
     "traceback": [
      "\u001b[1;31mRunning cells with '/opt/homebrew/bin/python3' requires the ipykernel package.\n",
      "\u001b[1;31mRun the following command to install 'ipykernel' into the Python environment. \n",
      "\u001b[1;31mCommand: '/opt/homebrew/bin/python3 -m pip install ipykernel -U --user --force-reinstall'"
     ]
    }
   ],
   "source": [
    "\n",
    "import pandas as pd\n",
    "import matplotlib as plt\n",
    "import numpy as np\n",
    "from sklearn.metrics import confusion_matrix, accuracy_score, classification_report\n",
    "from sklearn.model_selection import train_test_split \n",
    "from sklearn.tree import DecisionTreeClassifier\n",
    "from sklearn.neighbors import KNeighborsClassifier\n",
    "\n"
   ]
  },
  {
   "cell_type": "code",
   "execution_count": null,
   "metadata": {},
   "outputs": [],
   "source": [
    "x = pd.read_csv('Model Data/training_data.csv')\n",
    "y = pd.read_csv('Model Data/test_data.csv')"
   ]
  },
  {
   "attachments": {},
   "cell_type": "markdown",
   "metadata": {},
   "source": [
    "Supervised ML Technique: Decision Tree"
   ]
  },
  {
   "cell_type": "code",
   "execution_count": null,
   "metadata": {},
   "outputs": [],
   "source": [
    "#training using gini index\n",
    "\n",
    "def train_gini_index(x_train, x_test, y_train):\n",
    "    \n",
    "    clf_gini = DecisionTreeClassifier(criterion=\"gini\")\n",
    "    \n",
    "    \n",
    "    clf_gini.fit(x_train, y_train)\n",
    "    \n",
    "    return clf_gini\n"
   ]
  },
  {
   "cell_type": "code",
   "execution_count": null,
   "metadata": {},
   "outputs": [],
   "source": [
    "def prediction(x_test, clf_object):\n",
    "    y_pred = clf_object.predict(x_test)\n",
    "    print(\"Predict Values:\")\n",
    "    print(y_pred)\n",
    "    \n",
    "    return y_pred\n",
    "\n",
    "\n",
    "\n",
    "def accuracy(y_test, y_pred):\n",
    "    accuracy_score = accuracy_score(y_test, y_pred) \n",
    "    print(\"Accuracy_Score: {accuracy_score}\")\n",
    "    classification_report = classification_report(y_test, y_pred)\n",
    "    print(\"Classification Report: {classification_report}\")\n",
    "    confusion_matrix = confusion_matrix(y_test, y_pred)\n",
    "    print(\"Confusion Matrix: {confusion_matrix}\")\n",
    "    \n",
    "    \n",
    "    return accuracy_score, classification_report, confusion_matrix\n",
    "    "
   ]
  },
  {
   "cell_type": "code",
   "execution_count": null,
   "metadata": {},
   "outputs": [],
   "source": [
    "#pliot decison tree\n",
    "from sklearn import tree\n",
    "\n",
    "\n",
    "def decision_tree(clf_object, feature_names, class_names):\n",
    "    plt.figure(figsize=(15, 10))\n",
    "    sklearn.plot_tree(clf_object, filled=True,\n",
    "    feature_names=feature_names,\n",
    "    class_names=class_names, rounded=True)\n",
    "    plt.show()"
   ]
  },
  {
   "attachments": {},
   "cell_type": "markdown",
   "metadata": {},
   "source": [
    "Supervised ML Technique: KNN Classification"
   ]
  },
  {
   "cell_type": "code",
   "execution_count": null,
   "metadata": {},
   "outputs": [],
   "source": [
    "classes = [0, 1, 2, 3, 4, 5, 6, 7]\n",
    "\n",
    "data = list(zip(x, y))\n",
    "\n",
    "knn = KNeighborsClassifier(n_neighbors=)\n",
    "\n",
    "knn.fit(data, classes)"
   ]
  }
 ],
 "metadata": {
  "kernelspec": {
   "display_name": "Python 3",
   "language": "python",
   "name": "python3"
  },
  "language_info": {
   "name": "python",
   "version": "3.12.6"
  },
  "orig_nbformat": 4
 },
 "nbformat": 4,
 "nbformat_minor": 2
}
